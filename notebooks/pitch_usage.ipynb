{
 "cells": [
  {
   "cell_type": "code",
   "execution_count": 27,
   "metadata": {},
   "outputs": [],
   "source": [
    "import pandas as pd\n",
    "import pybaseball as pyb\n",
    "import seaborn as sns\n",
    "from IPython.display import HTML"
   ]
  },
  {
   "cell_type": "code",
   "execution_count": 2,
   "metadata": {},
   "outputs": [
    {
     "output_type": "stream",
     "name": "stdout",
     "text": [
      "Gathering player lookup table. This may take a moment.\n"
     ]
    }
   ],
   "source": [
    "player_name = 'anderson ian'\n",
    "player_id_table = pyb.playerid_lookup(*player_name.split())"
   ]
  },
  {
   "cell_type": "code",
   "execution_count": 6,
   "metadata": {},
   "outputs": [
    {
     "output_type": "stream",
     "name": "stdout",
     "text": [
      "Gathering Player Data\n"
     ]
    },
    {
     "output_type": "execute_result",
     "data": {
      "text/plain": [
       "  pitch_type   game_date  release_speed  release_pos_x  release_pos_z  \\\n",
       "0         CH  2020-10-18           87.5          -1.57           6.19   \n",
       "1         CH  2020-10-18           86.6          -1.70           6.23   \n",
       "2         FF  2020-10-18           94.0          -1.48           6.05   \n",
       "3         FF  2020-10-18           94.1          -1.45           6.19   \n",
       "4         CH  2020-10-18           87.4          -1.70           6.17   \n",
       "\n",
       "    player_name  batter  pitcher     events      description  ...  home_score  \\\n",
       "0  Ian Anderson  572041   666120  field_out    hit_into_play  ...           2   \n",
       "1  Ian Anderson  572041   666120        NaN             ball  ...           2   \n",
       "2  Ian Anderson  572041   666120        NaN             ball  ...           2   \n",
       "3  Ian Anderson  572041   666120        NaN  swinging_strike  ...           2   \n",
       "4  Ian Anderson  641355   666120       walk             ball  ...           2   \n",
       "\n",
       "   away_score  bat_score  fld_score  post_away_score post_home_score  \\\n",
       "0           2          2          2                2               2   \n",
       "1           2          2          2                2               2   \n",
       "2           2          2          2                2               2   \n",
       "3           2          2          2                2               2   \n",
       "4           2          2          2                2               2   \n",
       "\n",
       "  post_bat_score post_fld_score if_fielding_alignment of_fielding_alignment  \n",
       "0              2              2              Standard              Standard  \n",
       "1              2              2              Standard              Standard  \n",
       "2              2              2              Standard              Standard  \n",
       "3              2              2              Standard              Standard  \n",
       "4              2              2              Standard             Strategic  \n",
       "\n",
       "[5 rows x 89 columns]"
      ],
      "text/html": "<div>\n<style scoped>\n    .dataframe tbody tr th:only-of-type {\n        vertical-align: middle;\n    }\n\n    .dataframe tbody tr th {\n        vertical-align: top;\n    }\n\n    .dataframe thead th {\n        text-align: right;\n    }\n</style>\n<table border=\"1\" class=\"dataframe\">\n  <thead>\n    <tr style=\"text-align: right;\">\n      <th></th>\n      <th>pitch_type</th>\n      <th>game_date</th>\n      <th>release_speed</th>\n      <th>release_pos_x</th>\n      <th>release_pos_z</th>\n      <th>player_name</th>\n      <th>batter</th>\n      <th>pitcher</th>\n      <th>events</th>\n      <th>description</th>\n      <th>...</th>\n      <th>home_score</th>\n      <th>away_score</th>\n      <th>bat_score</th>\n      <th>fld_score</th>\n      <th>post_away_score</th>\n      <th>post_home_score</th>\n      <th>post_bat_score</th>\n      <th>post_fld_score</th>\n      <th>if_fielding_alignment</th>\n      <th>of_fielding_alignment</th>\n    </tr>\n  </thead>\n  <tbody>\n    <tr>\n      <th>0</th>\n      <td>CH</td>\n      <td>2020-10-18</td>\n      <td>87.5</td>\n      <td>-1.57</td>\n      <td>6.19</td>\n      <td>Ian Anderson</td>\n      <td>572041</td>\n      <td>666120</td>\n      <td>field_out</td>\n      <td>hit_into_play</td>\n      <td>...</td>\n      <td>2</td>\n      <td>2</td>\n      <td>2</td>\n      <td>2</td>\n      <td>2</td>\n      <td>2</td>\n      <td>2</td>\n      <td>2</td>\n      <td>Standard</td>\n      <td>Standard</td>\n    </tr>\n    <tr>\n      <th>1</th>\n      <td>CH</td>\n      <td>2020-10-18</td>\n      <td>86.6</td>\n      <td>-1.70</td>\n      <td>6.23</td>\n      <td>Ian Anderson</td>\n      <td>572041</td>\n      <td>666120</td>\n      <td>NaN</td>\n      <td>ball</td>\n      <td>...</td>\n      <td>2</td>\n      <td>2</td>\n      <td>2</td>\n      <td>2</td>\n      <td>2</td>\n      <td>2</td>\n      <td>2</td>\n      <td>2</td>\n      <td>Standard</td>\n      <td>Standard</td>\n    </tr>\n    <tr>\n      <th>2</th>\n      <td>FF</td>\n      <td>2020-10-18</td>\n      <td>94.0</td>\n      <td>-1.48</td>\n      <td>6.05</td>\n      <td>Ian Anderson</td>\n      <td>572041</td>\n      <td>666120</td>\n      <td>NaN</td>\n      <td>ball</td>\n      <td>...</td>\n      <td>2</td>\n      <td>2</td>\n      <td>2</td>\n      <td>2</td>\n      <td>2</td>\n      <td>2</td>\n      <td>2</td>\n      <td>2</td>\n      <td>Standard</td>\n      <td>Standard</td>\n    </tr>\n    <tr>\n      <th>3</th>\n      <td>FF</td>\n      <td>2020-10-18</td>\n      <td>94.1</td>\n      <td>-1.45</td>\n      <td>6.19</td>\n      <td>Ian Anderson</td>\n      <td>572041</td>\n      <td>666120</td>\n      <td>NaN</td>\n      <td>swinging_strike</td>\n      <td>...</td>\n      <td>2</td>\n      <td>2</td>\n      <td>2</td>\n      <td>2</td>\n      <td>2</td>\n      <td>2</td>\n      <td>2</td>\n      <td>2</td>\n      <td>Standard</td>\n      <td>Standard</td>\n    </tr>\n    <tr>\n      <th>4</th>\n      <td>CH</td>\n      <td>2020-10-18</td>\n      <td>87.4</td>\n      <td>-1.70</td>\n      <td>6.17</td>\n      <td>Ian Anderson</td>\n      <td>641355</td>\n      <td>666120</td>\n      <td>walk</td>\n      <td>ball</td>\n      <td>...</td>\n      <td>2</td>\n      <td>2</td>\n      <td>2</td>\n      <td>2</td>\n      <td>2</td>\n      <td>2</td>\n      <td>2</td>\n      <td>2</td>\n      <td>Standard</td>\n      <td>Strategic</td>\n    </tr>\n  </tbody>\n</table>\n<p>5 rows × 89 columns</p>\n</div>"
     },
     "metadata": {},
     "execution_count": 6
    }
   ],
   "source": [
    "player_id = player_id_table.values[0][2]\n",
    "\n",
    "pitches = pyb.statcast_pitcher(start_dt='2020-07-23', end_dt='2020-10-28', player_id=player_id)\n",
    "\n",
    "pitches.head()"
   ]
  },
  {
   "cell_type": "code",
   "execution_count": 31,
   "metadata": {},
   "outputs": [
    {
     "output_type": "stream",
     "name": "stdout",
     "text": [
      "Ian Anderson pitch selection by count\n"
     ]
    },
    {
     "output_type": "execute_result",
     "data": {
      "text/plain": [
       "<pandas.io.formats.style.Styler at 0x7f5f7c8d3a90>"
      ],
      "text/html": "<style  type=\"text/css\" >\n#T_56420a98_2dfa_11eb_92c1_19d031647b4frow0_col0{\n            background-color:  #c4e2d1;\n            color:  #000000;\n        }#T_56420a98_2dfa_11eb_92c1_19d031647b4frow0_col1,#T_56420a98_2dfa_11eb_92c1_19d031647b4frow2_col3,#T_56420a98_2dfa_11eb_92c1_19d031647b4frow3_col0,#T_56420a98_2dfa_11eb_92c1_19d031647b4frow3_col3,#T_56420a98_2dfa_11eb_92c1_19d031647b4frow6_col3,#T_56420a98_2dfa_11eb_92c1_19d031647b4frow8_col3,#T_56420a98_2dfa_11eb_92c1_19d031647b4frow9_col2,#T_56420a98_2dfa_11eb_92c1_19d031647b4frow9_col3,#T_56420a98_2dfa_11eb_92c1_19d031647b4frow11_col2{\n            background-color:  #ecf9f1;\n            color:  #000000;\n        }#T_56420a98_2dfa_11eb_92c1_19d031647b4frow0_col2,#T_56420a98_2dfa_11eb_92c1_19d031647b4frow7_col3,#T_56420a98_2dfa_11eb_92c1_19d031647b4frow9_col0,#T_56420a98_2dfa_11eb_92c1_19d031647b4frow11_col1{\n            background-color:  #2e8b57;\n            color:  #000000;\n        }#T_56420a98_2dfa_11eb_92c1_19d031647b4frow0_col3{\n            background-color:  #dbefe4;\n            color:  #000000;\n        }#T_56420a98_2dfa_11eb_92c1_19d031647b4frow1_col0{\n            background-color:  #a5d0b8;\n            color:  #000000;\n        }#T_56420a98_2dfa_11eb_92c1_19d031647b4frow1_col1{\n            background-color:  #b0d6c1;\n            color:  #000000;\n        }#T_56420a98_2dfa_11eb_92c1_19d031647b4frow1_col2{\n            background-color:  #93c5a9;\n            color:  #000000;\n        }#T_56420a98_2dfa_11eb_92c1_19d031647b4frow1_col3{\n            background-color:  #aed5bf;\n            color:  #000000;\n        }#T_56420a98_2dfa_11eb_92c1_19d031647b4frow2_col0{\n            background-color:  #b6dac6;\n            color:  #000000;\n        }#T_56420a98_2dfa_11eb_92c1_19d031647b4frow2_col1{\n            background-color:  #b3d8c3;\n            color:  #000000;\n        }#T_56420a98_2dfa_11eb_92c1_19d031647b4frow2_col2{\n            background-color:  #72b38f;\n            color:  #000000;\n        }#T_56420a98_2dfa_11eb_92c1_19d031647b4frow3_col1{\n            background-color:  #63aa82;\n            color:  #000000;\n        }#T_56420a98_2dfa_11eb_92c1_19d031647b4frow3_col2{\n            background-color:  #78b693;\n            color:  #000000;\n        }#T_56420a98_2dfa_11eb_92c1_19d031647b4frow4_col0{\n            background-color:  #d1e9dc;\n            color:  #000000;\n        }#T_56420a98_2dfa_11eb_92c1_19d031647b4frow4_col1{\n            background-color:  #4b9c6f;\n            color:  #000000;\n        }#T_56420a98_2dfa_11eb_92c1_19d031647b4frow4_col2{\n            background-color:  #b4d8c4;\n            color:  #000000;\n        }#T_56420a98_2dfa_11eb_92c1_19d031647b4frow4_col3{\n            background-color:  #cde7d8;\n            color:  #000000;\n        }#T_56420a98_2dfa_11eb_92c1_19d031647b4frow5_col0{\n            background-color:  #cbe6d7;\n            color:  #000000;\n        }#T_56420a98_2dfa_11eb_92c1_19d031647b4frow5_col1{\n            background-color:  #85bd9e;\n            color:  #000000;\n        }#T_56420a98_2dfa_11eb_92c1_19d031647b4frow5_col2{\n            background-color:  #87bfa0;\n            color:  #000000;\n        }#T_56420a98_2dfa_11eb_92c1_19d031647b4frow5_col3,#T_56420a98_2dfa_11eb_92c1_19d031647b4frow6_col0,#T_56420a98_2dfa_11eb_92c1_19d031647b4frow11_col0{\n            background-color:  #c6e3d3;\n            color:  #000000;\n        }#T_56420a98_2dfa_11eb_92c1_19d031647b4frow6_col1{\n            background-color:  #449769;\n            color:  #000000;\n        }#T_56420a98_2dfa_11eb_92c1_19d031647b4frow6_col2{\n            background-color:  #c5e2d2;\n            color:  #000000;\n        }#T_56420a98_2dfa_11eb_92c1_19d031647b4frow7_col0{\n            background-color:  #daeee3;\n            color:  #000000;\n        }#T_56420a98_2dfa_11eb_92c1_19d031647b4frow7_col1{\n            background-color:  #66ab84;\n            color:  #000000;\n        }#T_56420a98_2dfa_11eb_92c1_19d031647b4frow7_col2{\n            background-color:  #a7d1b9;\n            color:  #000000;\n        }#T_56420a98_2dfa_11eb_92c1_19d031647b4frow8_col0{\n            background-color:  #e9f7ef;\n            color:  #000000;\n        }#T_56420a98_2dfa_11eb_92c1_19d031647b4frow8_col1{\n            background-color:  #429767;\n            color:  #000000;\n        }#T_56420a98_2dfa_11eb_92c1_19d031647b4frow8_col2{\n            background-color:  #9ac9af;\n            color:  #000000;\n        }#T_56420a98_2dfa_11eb_92c1_19d031647b4frow9_col1{\n            background-color:  #eaf8f0;\n            color:  #000000;\n        }#T_56420a98_2dfa_11eb_92c1_19d031647b4frow10_col0{\n            background-color:  #ddf0e5;\n            color:  #000000;\n        }#T_56420a98_2dfa_11eb_92c1_19d031647b4frow10_col1{\n            background-color:  #328d5a;\n            color:  #000000;\n        }#T_56420a98_2dfa_11eb_92c1_19d031647b4frow10_col2{\n            background-color:  #d3eadd;\n            color:  #000000;\n        }#T_56420a98_2dfa_11eb_92c1_19d031647b4frow10_col3{\n            background-color:  #318d59;\n            color:  #000000;\n        }#T_56420a98_2dfa_11eb_92c1_19d031647b4frow11_col3{\n            background-color:  #64aa83;\n            color:  #000000;\n        }</style><table id=\"T_56420a98_2dfa_11eb_92c1_19d031647b4f\" ><thead>    <tr>        <th class=\"index_name level0\" >pitch_name</th>        <th class=\"col_heading level0 col0\" >4-Seam Fastball</th>        <th class=\"col_heading level0 col1\" >Changeup</th>        <th class=\"col_heading level0 col2\" >Curveball</th>        <th class=\"col_heading level0 col3\" >Sinker</th>    </tr>    <tr>        <th class=\"index_name level0\" >count</th>        <th class=\"blank\" ></th>        <th class=\"blank\" ></th>        <th class=\"blank\" ></th>        <th class=\"blank\" ></th>    </tr></thead><tbody>\n                <tr>\n                        <th id=\"T_56420a98_2dfa_11eb_92c1_19d031647b4flevel0_row0\" class=\"row_heading level0 row0\" >0-0</th>\n                        <td id=\"T_56420a98_2dfa_11eb_92c1_19d031647b4frow0_col0\" class=\"data row0 col0\" >48.37%</td>\n                        <td id=\"T_56420a98_2dfa_11eb_92c1_19d031647b4frow0_col1\" class=\"data row0 col1\" >12.09%</td>\n                        <td id=\"T_56420a98_2dfa_11eb_92c1_19d031647b4frow0_col2\" class=\"data row0 col2\" >39.07%</td>\n                        <td id=\"T_56420a98_2dfa_11eb_92c1_19d031647b4frow0_col3\" class=\"data row0 col3\" >0.47%</td>\n            </tr>\n            <tr>\n                        <th id=\"T_56420a98_2dfa_11eb_92c1_19d031647b4flevel0_row1\" class=\"row_heading level0 row1\" >0-1</th>\n                        <td id=\"T_56420a98_2dfa_11eb_92c1_19d031647b4frow1_col0\" class=\"data row1 col0\" >56.52%</td>\n                        <td id=\"T_56420a98_2dfa_11eb_92c1_19d031647b4frow1_col1\" class=\"data row1 col1\" >23.48%</td>\n                        <td id=\"T_56420a98_2dfa_11eb_92c1_19d031647b4frow1_col2\" class=\"data row1 col2\" >18.26%</td>\n                        <td id=\"T_56420a98_2dfa_11eb_92c1_19d031647b4frow1_col3\" class=\"data row1 col3\" >1.74%</td>\n            </tr>\n            <tr>\n                        <th id=\"T_56420a98_2dfa_11eb_92c1_19d031647b4flevel0_row2\" class=\"row_heading level0 row2\" >0-2</th>\n                        <td id=\"T_56420a98_2dfa_11eb_92c1_19d031647b4frow2_col0\" class=\"data row2 col0\" >52.08%</td>\n                        <td id=\"T_56420a98_2dfa_11eb_92c1_19d031647b4frow2_col1\" class=\"data row2 col1\" >22.92%</td>\n                        <td id=\"T_56420a98_2dfa_11eb_92c1_19d031647b4frow2_col2\" class=\"data row2 col2\" >25.00%</td>\n                        <td id=\"T_56420a98_2dfa_11eb_92c1_19d031647b4frow2_col3\" class=\"data row2 col3\" >0.00%</td>\n            </tr>\n            <tr>\n                        <th id=\"T_56420a98_2dfa_11eb_92c1_19d031647b4flevel0_row3\" class=\"row_heading level0 row3\" >1-0</th>\n                        <td id=\"T_56420a98_2dfa_11eb_92c1_19d031647b4frow3_col0\" class=\"data row3 col0\" >38.10%</td>\n                        <td id=\"T_56420a98_2dfa_11eb_92c1_19d031647b4frow3_col1\" class=\"data row3 col1\" >38.10%</td>\n                        <td id=\"T_56420a98_2dfa_11eb_92c1_19d031647b4frow3_col2\" class=\"data row3 col2\" >23.81%</td>\n                        <td id=\"T_56420a98_2dfa_11eb_92c1_19d031647b4frow3_col3\" class=\"data row3 col3\" >0.00%</td>\n            </tr>\n            <tr>\n                        <th id=\"T_56420a98_2dfa_11eb_92c1_19d031647b4flevel0_row4\" class=\"row_heading level0 row4\" >1-1</th>\n                        <td id=\"T_56420a98_2dfa_11eb_92c1_19d031647b4frow4_col0\" class=\"data row4 col0\" >45.13%</td>\n                        <td id=\"T_56420a98_2dfa_11eb_92c1_19d031647b4frow4_col1\" class=\"data row4 col1\" >42.48%</td>\n                        <td id=\"T_56420a98_2dfa_11eb_92c1_19d031647b4frow4_col2\" class=\"data row4 col2\" >11.50%</td>\n                        <td id=\"T_56420a98_2dfa_11eb_92c1_19d031647b4frow4_col3\" class=\"data row4 col3\" >0.88%</td>\n            </tr>\n            <tr>\n                        <th id=\"T_56420a98_2dfa_11eb_92c1_19d031647b4flevel0_row5\" class=\"row_heading level0 row5\" >1-2</th>\n                        <td id=\"T_56420a98_2dfa_11eb_92c1_19d031647b4frow5_col0\" class=\"data row5 col0\" >46.74%</td>\n                        <td id=\"T_56420a98_2dfa_11eb_92c1_19d031647b4frow5_col1\" class=\"data row5 col1\" >31.52%</td>\n                        <td id=\"T_56420a98_2dfa_11eb_92c1_19d031647b4frow5_col2\" class=\"data row5 col2\" >20.65%</td>\n                        <td id=\"T_56420a98_2dfa_11eb_92c1_19d031647b4frow5_col3\" class=\"data row5 col3\" >1.09%</td>\n            </tr>\n            <tr>\n                        <th id=\"T_56420a98_2dfa_11eb_92c1_19d031647b4flevel0_row6\" class=\"row_heading level0 row6\" >2-0</th>\n                        <td id=\"T_56420a98_2dfa_11eb_92c1_19d031647b4frow6_col0\" class=\"data row6 col0\" >48.00%</td>\n                        <td id=\"T_56420a98_2dfa_11eb_92c1_19d031647b4frow6_col1\" class=\"data row6 col1\" >44.00%</td>\n                        <td id=\"T_56420a98_2dfa_11eb_92c1_19d031647b4frow6_col2\" class=\"data row6 col2\" >8.00%</td>\n                        <td id=\"T_56420a98_2dfa_11eb_92c1_19d031647b4frow6_col3\" class=\"data row6 col3\" >0.00%</td>\n            </tr>\n            <tr>\n                        <th id=\"T_56420a98_2dfa_11eb_92c1_19d031647b4flevel0_row7\" class=\"row_heading level0 row7\" >2-1</th>\n                        <td id=\"T_56420a98_2dfa_11eb_92c1_19d031647b4frow7_col0\" class=\"data row7 col0\" >42.86%</td>\n                        <td id=\"T_56420a98_2dfa_11eb_92c1_19d031647b4frow7_col1\" class=\"data row7 col1\" >37.50%</td>\n                        <td id=\"T_56420a98_2dfa_11eb_92c1_19d031647b4frow7_col2\" class=\"data row7 col2\" >14.29%</td>\n                        <td id=\"T_56420a98_2dfa_11eb_92c1_19d031647b4frow7_col3\" class=\"data row7 col3\" >5.36%</td>\n            </tr>\n            <tr>\n                        <th id=\"T_56420a98_2dfa_11eb_92c1_19d031647b4flevel0_row8\" class=\"row_heading level0 row8\" >2-2</th>\n                        <td id=\"T_56420a98_2dfa_11eb_92c1_19d031647b4frow8_col0\" class=\"data row8 col0\" >38.95%</td>\n                        <td id=\"T_56420a98_2dfa_11eb_92c1_19d031647b4frow8_col1\" class=\"data row8 col1\" >44.21%</td>\n                        <td id=\"T_56420a98_2dfa_11eb_92c1_19d031647b4frow8_col2\" class=\"data row8 col2\" >16.84%</td>\n                        <td id=\"T_56420a98_2dfa_11eb_92c1_19d031647b4frow8_col3\" class=\"data row8 col3\" >0.00%</td>\n            </tr>\n            <tr>\n                        <th id=\"T_56420a98_2dfa_11eb_92c1_19d031647b4flevel0_row9\" class=\"row_heading level0 row9\" >3-0</th>\n                        <td id=\"T_56420a98_2dfa_11eb_92c1_19d031647b4frow9_col0\" class=\"data row9 col0\" >87.50%</td>\n                        <td id=\"T_56420a98_2dfa_11eb_92c1_19d031647b4frow9_col1\" class=\"data row9 col1\" >12.50%</td>\n                        <td id=\"T_56420a98_2dfa_11eb_92c1_19d031647b4frow9_col2\" class=\"data row9 col2\" >0.00%</td>\n                        <td id=\"T_56420a98_2dfa_11eb_92c1_19d031647b4frow9_col3\" class=\"data row9 col3\" >0.00%</td>\n            </tr>\n            <tr>\n                        <th id=\"T_56420a98_2dfa_11eb_92c1_19d031647b4flevel0_row10\" class=\"row_heading level0 row10\" >3-1</th>\n                        <td id=\"T_56420a98_2dfa_11eb_92c1_19d031647b4frow10_col0\" class=\"data row10 col0\" >42.11%</td>\n                        <td id=\"T_56420a98_2dfa_11eb_92c1_19d031647b4frow10_col1\" class=\"data row10 col1\" >47.37%</td>\n                        <td id=\"T_56420a98_2dfa_11eb_92c1_19d031647b4frow10_col2\" class=\"data row10 col2\" >5.26%</td>\n                        <td id=\"T_56420a98_2dfa_11eb_92c1_19d031647b4frow10_col3\" class=\"data row10 col3\" >5.26%</td>\n            </tr>\n            <tr>\n                        <th id=\"T_56420a98_2dfa_11eb_92c1_19d031647b4flevel0_row11\" class=\"row_heading level0 row11\" >3-2</th>\n                        <td id=\"T_56420a98_2dfa_11eb_92c1_19d031647b4frow11_col0\" class=\"data row11 col0\" >48.08%</td>\n                        <td id=\"T_56420a98_2dfa_11eb_92c1_19d031647b4frow11_col1\" class=\"data row11 col1\" >48.08%</td>\n                        <td id=\"T_56420a98_2dfa_11eb_92c1_19d031647b4frow11_col2\" class=\"data row11 col2\" >0.00%</td>\n                        <td id=\"T_56420a98_2dfa_11eb_92c1_19d031647b4frow11_col3\" class=\"data row11 col3\" >3.85%</td>\n            </tr>\n    </tbody></table>"
     },
     "metadata": {},
     "execution_count": 31
    }
   ],
   "source": [
    "pitch_data = pitches.copy()[['balls', 'strikes', 'pitch_name']]\n",
    "\n",
    "pitch_data['count'] = pitch_data['balls'].astype(str) + '-' + pitch_data['strikes'].astype(str)\n",
    "pitch_data['pitch'] = 1\n",
    "\n",
    "pitch_data = pitch_data[['pitch', 'count', 'pitch_name']]\n",
    "\n",
    "pitch_data = pitch_data.pivot_table(columns='pitch_name', index='count', aggfunc='count').fillna(0)\n",
    "pitch_data['pitch_name', 'total_thrown'] = pitch_data.sum(axis=1)\n",
    "\n",
    "pitch_data.columns = pitch_data.columns.droplevel(level=0)\n",
    "\n",
    "formatters = {}\n",
    "\n",
    "for pitch_name in pitch_data.columns.tolist()[:-1]:\n",
    "    pitch_data[pitch_name] = pitch_data[pitch_name] / pitch_data['total_thrown'] * 100\n",
    "    formatters[pitch_name] = '{:.2f}%'\n",
    "\n",
    "pitch_data = pitch_data.drop(columns='total_thrown')\n",
    "full_player_name = player_name.split()[-1].capitalize() + ' ' + player_name.split()[0].capitalize()\n",
    "print(full_player_name, 'pitch selection by count')\n",
    "pitch_data.style.background_gradient(cmap=sns.light_palette('seagreen', as_cmap=True)).format(formatters)"
   ]
  }
 ],
 "metadata": {
  "kernelspec": {
   "display_name": "Python 3.8.5 64-bit",
   "language": "python",
   "name": "python38564bit8ff5764b75ae462fa4f372b95fe914d0"
  },
  "language_info": {
   "codemirror_mode": {
    "name": "ipython",
    "version": 3
   },
   "file_extension": ".py",
   "mimetype": "text/x-python",
   "name": "python",
   "nbconvert_exporter": "python",
   "pygments_lexer": "ipython3",
   "version": "3.8.5-final"
  }
 },
 "nbformat": 4,
 "nbformat_minor": 2
}