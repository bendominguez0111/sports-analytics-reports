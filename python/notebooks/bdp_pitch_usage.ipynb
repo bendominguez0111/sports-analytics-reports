{
 "metadata": {
  "language_info": {
   "codemirror_mode": {
    "name": "ipython",
    "version": 3
   },
   "file_extension": ".py",
   "mimetype": "text/x-python",
   "name": "python",
   "nbconvert_exporter": "python",
   "pygments_lexer": "ipython3",
   "version": "3.8.5-final"
  },
  "orig_nbformat": 2,
  "kernelspec": {
   "name": "python38564bit8ff5764b75ae462fa4f372b95fe914d0",
   "display_name": "Python 3.8.5 64-bit"
  }
 },
 "nbformat": 4,
 "nbformat_minor": 2,
 "cells": [
  {
   "cell_type": "code",
   "execution_count": 1,
   "metadata": {},
   "outputs": [
    {
     "output_type": "error",
     "ename": "Error",
     "evalue": "Pip module Unable to parse debugpy output, please log an issue with https://github.com/microsoft/vscode-jupyter is required for debugging cells. You will need to install it to debug cells.",
     "traceback": [
      "Error: Pip module Unable to parse debugpy output, please log an issue with https://github.com/microsoft/vscode-jupyter is required for debugging cells. You will need to install it to debug cells.",
      "at b.parseConnectInfo (/home/ben/.vscode/extensions/ms-toolsai.jupyter-2020.11.372831992/out/client/extension.js:49:490044)",
      "at b.connectToLocal (/home/ben/.vscode/extensions/ms-toolsai.jupyter-2020.11.372831992/out/client/extension.js:49:490571)",
      "at runMicrotasks (<anonymous>)",
      "at processTicksAndRejections (internal/process/task_queues.js:94:5)",
      "at async b.connect (/home/ben/.vscode/extensions/ms-toolsai.jupyter-2020.11.372831992/out/client/extension.js:49:488448)",
      "at async b.startDebugSession (/home/ben/.vscode/extensions/ms-toolsai.jupyter-2020.11.372831992/out/client/extension.js:49:487595)",
      "at async f.submitCode (/home/ben/.vscode/extensions/ms-toolsai.jupyter-2020.11.372831992/out/client/extension.js:32:565062)",
      "at async f.handleRunByLine (/home/ben/.vscode/extensions/ms-toolsai.jupyter-2020.11.372831992/out/client/extension.js:9:173151)"
     ]
    }
   ],
   "source": [
    "import pandas as pd\n",
    "import pybaseball as pyb\n",
    "from IPython.display import HTML\n",
    "import dataframe_image as dfi\n",
    "import seaborn as sns\n",
    "\n",
    "#ian anderson\n",
    "player_name = 'anderson ian'\n",
    "\n",
    "player_id_table = pyb.playerid_lookup(*player_name.split())\n",
    "\n",
    "player_id = player_id_table.values[0][2]\n",
    "\n",
    "pitches = pyb.statcast_pitcher(start_dt='2020-07-23', end_dt='2020-10-28', player_id=player_id)\n",
    "\n",
    "pitches = pitches[['balls', 'strikes', 'pitch_name']]\n",
    "\n",
    "pitches['balls'] = pitches['balls'].astype(str)\n",
    "pitches['strikes'] = pitches['strikes'].astype(str)\n",
    "\n",
    "pitches['count'] = pitches['balls'] + '-' + pitches['strikes']\n",
    "pitches['pitch'] = 1\n",
    "\n",
    "pitches = pitches[['pitch', 'count', 'pitch_name']]\n",
    "\n",
    "pitches = pitches.pivot_table(columns='pitch_name', index='count', aggfunc='count').fillna(0)\n",
    "\n",
    "pitches['pitch_name', 'total_thrown'] = pitches.sum(axis=1)\n",
    "\n",
    "pitches.columns = pitches.columns.droplevel(level=0)\n",
    "\n",
    "for pitch_name in pitches.columns.tolist()[:-1]:\n",
    "    pitches[pitch_name] = pitches[pitch_name] / pitches['total_thrown']\n",
    "\n",
    "pitches.drop('total_thrown', axis=1, inplace=True)\n",
    "\n",
    "player_name_actual = player_name.split()[-1].capitalize() + ' ' + player_name.split()[0].capitalize()\n",
    "df_title = f\"\\n{player_name_actual}'s pitch selection per count\\n\"\n",
    "\n",
    "formatters = {}\n",
    "for pitch in pitches.columns.tolist():\n",
    "    formatters[pitch] = '{0:.0%}'\n",
    "\n",
    "pitches_styled = pitches.style.background_gradient(cmap=sns.light_palette('seagreen', as_cmap=True)).format(formatters)\n",
    "\n",
    "dfi.export(pitches_styled, f'img/{player_name}.png')\n",
    "\n",
    "HTML(pitches_styled.render(table_title=df_title))"
   ]
  },
  {
   "cell_type": "code",
   "execution_count": null,
   "metadata": {},
   "outputs": [],
   "source": []
  }
 ]
}